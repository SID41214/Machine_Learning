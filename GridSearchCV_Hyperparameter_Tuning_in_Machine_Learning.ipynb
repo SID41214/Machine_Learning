{
  "nbformat": 4,
  "nbformat_minor": 0,
  "metadata": {
    "colab": {
      "provenance": []
    },
    "kernelspec": {
      "name": "python3",
      "display_name": "Python 3"
    },
    "language_info": {
      "name": "python"
    }
  },
  "cells": [
    {
      "cell_type": "markdown",
      "source": [
        "**GridSearchCV: Hyperparameter Tuning in Machine Learning**\n",
        "\n",
        "---\n",
        "\n"
      ],
      "metadata": {
        "id": "3f7f-SxgQkFt"
      }
    },
    {
      "cell_type": "markdown",
      "source": [
        "Introduction to GridSearchCV :"
      ],
      "metadata": {
        "id": "h2H8lOzMQsCm"
      }
    },
    {
      "cell_type": "markdown",
      "source": [
        "GridSearchCV in Scikit-Learn is a vital tool for hyperparameter tuning, performing an exhaustive search over specified parameter values for an estimator. It systematically evaluates each combination using cross-validation to identify the optimal settings that maximize model performance based on a scoring metric like accuracy or F1-score. Hyperparameter tuning is crucial as it significantly impacts model performance, preventing underfitting or overfitting. GridSearchCV automates this process, ensuring robust generalization on unseen data. It helps data scientists efficiently find the best hyperparameters, saving time and resources while optimizing model performance, making it an essential tool in the machine learning pipeline."
      ],
      "metadata": {
        "id": "CY0y1-e7Qn0S"
      }
    },
    {
      "cell_type": "markdown",
      "source": [
        "Parameters of GridSearchCV :"
      ],
      "metadata": {
        "id": "a76iGl6LQqBS"
      }
    },
    {
      "cell_type": "markdown",
      "source": [
        "\n",
        "\n",
        "**Estimator:** The model or pipeline to be optimized. This can be any Scikit-Learn estimator like LogisticRegression(),SVC(), RandomForestClassifier(), etc.\n",
        "\n",
        "**param_grid:** A dictionary or list of dictionaries with parameter names (as strings) as keys and lists of parameter settings to try as values. Using param_grid, you can specify the hyperparameters for various models to find the optimal combination.\n",
        "\n",
        "Examples of various models hyperparameters for the param_grid parameter.\n",
        "\n",
        "**Logistic Regression:** When tuning a logistic regression model, GridSearchCV can search through different values of C, penalty, and solver to find the best parameters."
      ],
      "metadata": {
        "id": "9MoVTnGIQwQE"
      }
    },
    {
      "cell_type": "code",
      "source": [
        "parameters = {'C': [0.01, 0.1, 1],\n",
        "              'penalty': ['l2'],\n",
        "              'solver': ['lbfgs']}"
      ],
      "metadata": {
        "id": "44neLi1WQ5is"
      },
      "execution_count": 2,
      "outputs": []
    },
    {
      "cell_type": "markdown",
      "source": [
        "C: Inverse of regularization strength; smaller values specify stronger regularization.\n",
        "penalty: Specifies the norm of the penalty; 'l2' is ridge regression.\n",
        "solver: Algorithm to use in the optimization problem.\n",
        "\n",
        "**Support Vector Machine**: For SVM, GridSearchCV can explore different kernels, C values, and gamma settings to optimize the model.\n"
      ],
      "metadata": {
        "id": "0ZcK8AQFQ9nA"
      }
    },
    {
      "cell_type": "code",
      "source": [
        "import numpy as np\n",
        "parameters = {'kernel': ['linear', 'rbf', 'poly', 'sigmoid'],\n",
        "              'C': np.logspace(-3, 3, 5),\n",
        "              'gamma': np.logspace(-3, 3, 5)}"
      ],
      "metadata": {
        "id": "6eOejsn8RE7m"
      },
      "execution_count": 4,
      "outputs": []
    },
    {
      "cell_type": "markdown",
      "source": [
        "**kernel:** Specifies the kernel type to be used in the algorithm.\n",
        "**C:** Regularization parameter.\n",
        "gamma: Kernel coefficient.\n",
        "\n",
        "**Decision Tree Classifier:** In the case of a decision tree, GridSearchCV can test various criteria, splitters, depths, and other parameters to find the best configuration."
      ],
      "metadata": {
        "id": "wHgkH5_MRM7a"
      }
    },
    {
      "cell_type": "code",
      "source": [
        "parameters = {'criterion': ['gini', 'entropy'],\n",
        "              'splitter': ['best', 'random'],\n",
        "              'max_depth': [2*n for n in range(1, 10)],\n",
        "              'max_features': ['auto', 'sqrt'],\n",
        "              'min_samples_leaf': [1, 2, 4],\n",
        "              'min_samples_split': [2, 5, 10]}"
      ],
      "metadata": {
        "id": "NpFfhzuPRTf_"
      },
      "execution_count": 5,
      "outputs": []
    },
    {
      "cell_type": "markdown",
      "source": [
        "**criterion:** The function to measure the quality of a split.\n",
        "**splitter:** The strategy used to choose the split at each node.\n",
        "**max_depth**: The maximum depth of the tree.\n",
        "**max_features**: The number of features to consider when looking for the best split.\n",
        "**min_samples_leaf:** The minimum number of samples required to be at a leaf node.\n",
        "**min_samples_split**: The minimum number of samples required to split an internal node.\n",
        "\n",
        "**K-Nearest Neighbors**: For KNN, GridSearchCV can try different numbers of neighbors, algorithms, and power parameters to determine the best model."
      ],
      "metadata": {
        "id": "M4hKKtz0RXGO"
      }
    },
    {
      "cell_type": "code",
      "source": [
        "parameters = {'n_neighbors': [1, 2, 3, 4, 5, 6, 7, 8, 9, 10],\n",
        "              'algorithm': ['auto', 'ball_tree', 'kd_tree', 'brute'],\n",
        "              'p': [1, 2]}"
      ],
      "metadata": {
        "id": "2-Kjeq0JRdSd"
      },
      "execution_count": 6,
      "outputs": []
    },
    {
      "cell_type": "markdown",
      "source": [
        "n_neighbors: Number of neighbors to use.\n",
        "algorithm: Algorithm used to compute the nearest neighbors.\n",
        "p: Power parameter for the Minkowski metric.\n",
        "\n",
        "scoring: A single string or callable to evaluate the predictions on the test set. Common options include accuracy, f1, roc_auc, etc. If none, the estimator's default scorer is used.\n",
        "\n",
        "n_jobs: The number of jobs to run in parallel. -1 means using all processors.\n",
        "\n",
        "pre_dispatch: Controls the number of jobs that get dispatched during parallel execution. It can be an integer or expressions like 2n_jobs, 3n_jobs, etc., to limit the number of jobs dispatched at once.\n",
        "\n",
        "refit: If True, refits the best estimator with the entire dataset. The best estimator is stored in the best_estimator_ attribute. Default is True.\n",
        "\n",
        "cv: Determines the cross-validation splitting strategy. It can be an integer to specify the number of folds, a cross-validation generator, or an iterable. Default is 5-fold cross-validation.\n",
        "\n",
        "verbose: Controls the verbosity level. Higher values indicate more messages. verbose=0 is silent, verbose=1 shows some messages, and verbose=2 shows more messages.\n",
        "\n",
        "return_train_score: If False, the cv_results_ attribute will not include training scores. Default is False.\n",
        "\n",
        "error_score: Value to assign to the score if an error occurs in estimator fitting. np.nan is the default, but it can be set to a specific value."
      ],
      "metadata": {
        "id": "r_gNfRFrRgSC"
      }
    },
    {
      "cell_type": "markdown",
      "source": [
        "Applications and Advantages of GridSearchCV\n",
        "\n",
        "---\n",
        "**Model Selection:** GridSearchCV enables the comparison of multiple models and facilitates the selection of the best-performing one for a given data set.\n",
        "\n",
        "**Hyperparameter Tuning:** It automates the process of finding the optimal hyperparameters, which can significantly improve the performance of machine learning models.\n",
        "\n",
        "**Pipeline Optimization: **GridSearchCV can be applied to complex pipelines involving multiple preprocessing steps and models to optimize the entire workflow.\n",
        "\n",
        "**Cross-Validation:** It incorporates cross-validation in the parameter search process, ensuring that the model's performance is robust and not overfitted to a particular train-test split.\n",
        "\n",
        "**Exhaustive Search:** GridSearchCV performs an exhaustive search over the specified parameter grid, ensuring that the best combination of parameters is found.\n",
        "\n",
        "**Parallel Execution:** With the n_jobs parameter, it can leverage multiple processors to speed up the search process.\n",
        "\n",
        "**Automatic Refit:** By setting refit=True, GridSearchCV automatically refits the model with the best parameters on the entire data set, making it ready for use.\n",
        "\n",
        "**Detailed Output:** The cv_results_ attribute provides detailed information about the performance of each parameter combination, including training and validation scores, which helps in understanding the model's\n"
      ],
      "metadata": {
        "id": "3jcn4ODQRhDm"
      }
    },
    {
      "cell_type": "code",
      "source": [
        "import numpy as np\n",
        "import pandas as pd\n",
        "from sklearn.datasets import load_iris\n",
        "from sklearn.model_selection import train_test_split, GridSearchCV\n",
        "from sklearn.svm import SVC\n",
        "from sklearn.metrics import classification_report\n",
        "import warnings\n",
        "# Ignore warnings\n",
        "warnings.filterwarnings('ignore')"
      ],
      "metadata": {
        "id": "nTfdJOiURzmC"
      },
      "execution_count": 7,
      "outputs": []
    },
    {
      "cell_type": "markdown",
      "source": [
        "Load the Iris data set: The Iris data set is a classic data set in machine learning. Load it using the load_iris function from Scikit-Learn."
      ],
      "metadata": {
        "id": "ytglajJuR2en"
      }
    },
    {
      "cell_type": "code",
      "source": [
        "iris = load_iris()\n",
        "X = iris.data\n",
        "y = iris.target"
      ],
      "metadata": {
        "id": "4wfz6Lg2R23o"
      },
      "execution_count": 8,
      "outputs": []
    },
    {
      "cell_type": "markdown",
      "source": [
        "**X:** Features of the Iris dataset (sepal length, sepal width, petal length, petal width).\n",
        "\n",
        "**y:** Target labels representing the three species of Iris (setosa, versicolor, virginica).\n",
        "\n",
        "*  **Splitting the data into training and test set:** Divide data set into training and test sets to evaluate how well the model performs on data it has not been trained on."
      ],
      "metadata": {
        "id": "UIY6sHE_R6Sm"
      }
    },
    {
      "cell_type": "code",
      "source": [
        "X_train, X_test, y_train, y_test = train_test_split(X, y, test_size=0.2, random_state=42)"
      ],
      "metadata": {
        "id": "sEpFA766SCXQ"
      },
      "execution_count": 9,
      "outputs": []
    },
    {
      "cell_type": "markdown",
      "source": [
        "*  test_size=0.2: 20% of the data is used for testing.\n",
        "*  random_state=42: Ensures reproducibility of the random split.\n",
        "\n",
        "**Define the parameter grid:** Specify a grid of hyperparameters for the SVM model to search over. The grid includes different values for C, gamma, and kernel."
      ],
      "metadata": {
        "id": "UxOu8nYuSHea"
      }
    },
    {
      "cell_type": "code",
      "source": [
        "param_grid = {\n",
        "    'C': [0.1, 1, 10, 100],\n",
        "    'gamma': [1, 0.1, 0.01, 0.001],\n",
        "    'kernel': ['linear', 'rbf', 'poly']\n",
        "}"
      ],
      "metadata": {
        "id": "I7QTJTsTSO35"
      },
      "execution_count": 10,
      "outputs": []
    },
    {
      "cell_type": "markdown",
      "source": [
        "**C:** Regularization parameter.\n",
        "\n",
        "\n",
        "**gamma:** Kernel coefficient.\n",
        "\n",
        "\n",
        "**kernel:** Specifies the type of kernel to be used in the algorithm.\n",
        "\n",
        "**Initialize the SVC model:** Create an instance of the support vector classifier (SVC)."
      ],
      "metadata": {
        "id": "tQUgxTKYSRKY"
      }
    },
    {
      "cell_type": "code",
      "source": [
        "svc = SVC()"
      ],
      "metadata": {
        "id": "-IBz3NZJST8u"
      },
      "execution_count": 11,
      "outputs": []
    },
    {
      "cell_type": "markdown",
      "source": [
        "**Initialize GridSearchCV:** Set up the GridSearchCV with the SVC model, the parameter grid, and the desired configuration."
      ],
      "metadata": {
        "id": "OIqAGwAsSZXF"
      }
    },
    {
      "cell_type": "code",
      "source": [
        "grid_search = GridSearchCV(estimator=svc, param_grid=param_grid, scoring='accuracy', cv=5, n_jobs=-1, verbose=2)"
      ],
      "metadata": {
        "id": "LvgdI5xZSawU"
      },
      "execution_count": 12,
      "outputs": []
    },
    {
      "cell_type": "markdown",
      "source": [
        "**estimator:** The model to optimize (SVC).\n",
        "\n",
        "**param_grid:** The grid of hyperparameters.\n",
        "\n",
        "**scoring='accuracy'**: The metric used to evaluate the model's performance.\n",
        "\n",
        "**cv=5:** 5-fold cross-validation.\n",
        "\n",
        "\n",
        "**n_jobs=-1:** Use all available processors.\n",
        "\n",
        "\n",
        "**verbose=2:** Show detailed output during the search.\n",
        "\n",
        "**Fit GridSearchCV to the training data:**  Perform the grid search on the training data."
      ],
      "metadata": {
        "id": "C8Q4D7jZSeD5"
      }
    },
    {
      "cell_type": "code",
      "source": [
        "grid_search.fit(X_train, y_train)"
      ],
      "metadata": {
        "colab": {
          "base_uri": "https://localhost:8080/",
          "height": 134
        },
        "id": "QVpSXkKrSp42",
        "outputId": "bf353c6f-5371-4d38-9b8c-456265e5a506"
      },
      "execution_count": 13,
      "outputs": [
        {
          "output_type": "stream",
          "name": "stdout",
          "text": [
            "Fitting 5 folds for each of 48 candidates, totalling 240 fits\n"
          ]
        },
        {
          "output_type": "execute_result",
          "data": {
            "text/plain": [
              "GridSearchCV(cv=5, estimator=SVC(), n_jobs=-1,\n",
              "             param_grid={'C': [0.1, 1, 10, 100], 'gamma': [1, 0.1, 0.01, 0.001],\n",
              "                         'kernel': ['linear', 'rbf', 'poly']},\n",
              "             scoring='accuracy', verbose=2)"
            ],
            "text/html": [
              "<style>#sk-container-id-1 {color: black;}#sk-container-id-1 pre{padding: 0;}#sk-container-id-1 div.sk-toggleable {background-color: white;}#sk-container-id-1 label.sk-toggleable__label {cursor: pointer;display: block;width: 100%;margin-bottom: 0;padding: 0.3em;box-sizing: border-box;text-align: center;}#sk-container-id-1 label.sk-toggleable__label-arrow:before {content: \"▸\";float: left;margin-right: 0.25em;color: #696969;}#sk-container-id-1 label.sk-toggleable__label-arrow:hover:before {color: black;}#sk-container-id-1 div.sk-estimator:hover label.sk-toggleable__label-arrow:before {color: black;}#sk-container-id-1 div.sk-toggleable__content {max-height: 0;max-width: 0;overflow: hidden;text-align: left;background-color: #f0f8ff;}#sk-container-id-1 div.sk-toggleable__content pre {margin: 0.2em;color: black;border-radius: 0.25em;background-color: #f0f8ff;}#sk-container-id-1 input.sk-toggleable__control:checked~div.sk-toggleable__content {max-height: 200px;max-width: 100%;overflow: auto;}#sk-container-id-1 input.sk-toggleable__control:checked~label.sk-toggleable__label-arrow:before {content: \"▾\";}#sk-container-id-1 div.sk-estimator input.sk-toggleable__control:checked~label.sk-toggleable__label {background-color: #d4ebff;}#sk-container-id-1 div.sk-label input.sk-toggleable__control:checked~label.sk-toggleable__label {background-color: #d4ebff;}#sk-container-id-1 input.sk-hidden--visually {border: 0;clip: rect(1px 1px 1px 1px);clip: rect(1px, 1px, 1px, 1px);height: 1px;margin: -1px;overflow: hidden;padding: 0;position: absolute;width: 1px;}#sk-container-id-1 div.sk-estimator {font-family: monospace;background-color: #f0f8ff;border: 1px dotted black;border-radius: 0.25em;box-sizing: border-box;margin-bottom: 0.5em;}#sk-container-id-1 div.sk-estimator:hover {background-color: #d4ebff;}#sk-container-id-1 div.sk-parallel-item::after {content: \"\";width: 100%;border-bottom: 1px solid gray;flex-grow: 1;}#sk-container-id-1 div.sk-label:hover label.sk-toggleable__label {background-color: #d4ebff;}#sk-container-id-1 div.sk-serial::before {content: \"\";position: absolute;border-left: 1px solid gray;box-sizing: border-box;top: 0;bottom: 0;left: 50%;z-index: 0;}#sk-container-id-1 div.sk-serial {display: flex;flex-direction: column;align-items: center;background-color: white;padding-right: 0.2em;padding-left: 0.2em;position: relative;}#sk-container-id-1 div.sk-item {position: relative;z-index: 1;}#sk-container-id-1 div.sk-parallel {display: flex;align-items: stretch;justify-content: center;background-color: white;position: relative;}#sk-container-id-1 div.sk-item::before, #sk-container-id-1 div.sk-parallel-item::before {content: \"\";position: absolute;border-left: 1px solid gray;box-sizing: border-box;top: 0;bottom: 0;left: 50%;z-index: -1;}#sk-container-id-1 div.sk-parallel-item {display: flex;flex-direction: column;z-index: 1;position: relative;background-color: white;}#sk-container-id-1 div.sk-parallel-item:first-child::after {align-self: flex-end;width: 50%;}#sk-container-id-1 div.sk-parallel-item:last-child::after {align-self: flex-start;width: 50%;}#sk-container-id-1 div.sk-parallel-item:only-child::after {width: 0;}#sk-container-id-1 div.sk-dashed-wrapped {border: 1px dashed gray;margin: 0 0.4em 0.5em 0.4em;box-sizing: border-box;padding-bottom: 0.4em;background-color: white;}#sk-container-id-1 div.sk-label label {font-family: monospace;font-weight: bold;display: inline-block;line-height: 1.2em;}#sk-container-id-1 div.sk-label-container {text-align: center;}#sk-container-id-1 div.sk-container {/* jupyter's `normalize.less` sets `[hidden] { display: none; }` but bootstrap.min.css set `[hidden] { display: none !important; }` so we also need the `!important` here to be able to override the default hidden behavior on the sphinx rendered scikit-learn.org. See: https://github.com/scikit-learn/scikit-learn/issues/21755 */display: inline-block !important;position: relative;}#sk-container-id-1 div.sk-text-repr-fallback {display: none;}</style><div id=\"sk-container-id-1\" class=\"sk-top-container\"><div class=\"sk-text-repr-fallback\"><pre>GridSearchCV(cv=5, estimator=SVC(), n_jobs=-1,\n",
              "             param_grid={&#x27;C&#x27;: [0.1, 1, 10, 100], &#x27;gamma&#x27;: [1, 0.1, 0.01, 0.001],\n",
              "                         &#x27;kernel&#x27;: [&#x27;linear&#x27;, &#x27;rbf&#x27;, &#x27;poly&#x27;]},\n",
              "             scoring=&#x27;accuracy&#x27;, verbose=2)</pre><b>In a Jupyter environment, please rerun this cell to show the HTML representation or trust the notebook. <br />On GitHub, the HTML representation is unable to render, please try loading this page with nbviewer.org.</b></div><div class=\"sk-container\" hidden><div class=\"sk-item sk-dashed-wrapped\"><div class=\"sk-label-container\"><div class=\"sk-label sk-toggleable\"><input class=\"sk-toggleable__control sk-hidden--visually\" id=\"sk-estimator-id-1\" type=\"checkbox\" ><label for=\"sk-estimator-id-1\" class=\"sk-toggleable__label sk-toggleable__label-arrow\">GridSearchCV</label><div class=\"sk-toggleable__content\"><pre>GridSearchCV(cv=5, estimator=SVC(), n_jobs=-1,\n",
              "             param_grid={&#x27;C&#x27;: [0.1, 1, 10, 100], &#x27;gamma&#x27;: [1, 0.1, 0.01, 0.001],\n",
              "                         &#x27;kernel&#x27;: [&#x27;linear&#x27;, &#x27;rbf&#x27;, &#x27;poly&#x27;]},\n",
              "             scoring=&#x27;accuracy&#x27;, verbose=2)</pre></div></div></div><div class=\"sk-parallel\"><div class=\"sk-parallel-item\"><div class=\"sk-item\"><div class=\"sk-label-container\"><div class=\"sk-label sk-toggleable\"><input class=\"sk-toggleable__control sk-hidden--visually\" id=\"sk-estimator-id-2\" type=\"checkbox\" ><label for=\"sk-estimator-id-2\" class=\"sk-toggleable__label sk-toggleable__label-arrow\">estimator: SVC</label><div class=\"sk-toggleable__content\"><pre>SVC()</pre></div></div></div><div class=\"sk-serial\"><div class=\"sk-item\"><div class=\"sk-estimator sk-toggleable\"><input class=\"sk-toggleable__control sk-hidden--visually\" id=\"sk-estimator-id-3\" type=\"checkbox\" ><label for=\"sk-estimator-id-3\" class=\"sk-toggleable__label sk-toggleable__label-arrow\">SVC</label><div class=\"sk-toggleable__content\"><pre>SVC()</pre></div></div></div></div></div></div></div></div></div></div>"
            ]
          },
          "metadata": {},
          "execution_count": 13
        }
      ]
    },
    {
      "cell_type": "markdown",
      "source": [
        "**Check the best parameters and estimator:** After fitting, print the best parameters and the best estimator found during the grid search."
      ],
      "metadata": {
        "id": "wmYw7XBsStBo"
      }
    },
    {
      "cell_type": "code",
      "source": [
        "print(\"Best parameters found: \", grid_search.best_params_)\n",
        "print(\"Best estimator: \", grid_search.best_estimator_)"
      ],
      "metadata": {
        "colab": {
          "base_uri": "https://localhost:8080/"
        },
        "id": "1sgiwPZoSu_5",
        "outputId": "b28c4266-21f5-4469-f65e-9d87d8cd2010"
      },
      "execution_count": 14,
      "outputs": [
        {
          "output_type": "stream",
          "name": "stdout",
          "text": [
            "Best parameters found:  {'C': 0.1, 'gamma': 0.1, 'kernel': 'poly'}\n",
            "Best estimator:  SVC(C=0.1, gamma=0.1, kernel='poly')\n"
          ]
        }
      ]
    },
    {
      "cell_type": "markdown",
      "source": [
        "**Make predictions with the best estimator:** Use the best estimator to make predictions on the test set."
      ],
      "metadata": {
        "id": "nkWaMm4SSx6C"
      }
    },
    {
      "cell_type": "code",
      "source": [
        "\n",
        "y_pred = grid_search.best_estimator_.predict(X_test)"
      ],
      "metadata": {
        "id": "RtUmVrLQSzIp"
      },
      "execution_count": 15,
      "outputs": []
    },
    {
      "cell_type": "markdown",
      "source": [
        "**Evaluate the performance**: Evaluate the model's performance on the test set using the classification_report function, which provides precision, recall, F1-score, and support for each class."
      ],
      "metadata": {
        "id": "wn49nWYvS2M-"
      }
    },
    {
      "cell_type": "code",
      "source": [
        "\n",
        "print(classification_report(y_test, y_pred))"
      ],
      "metadata": {
        "colab": {
          "base_uri": "https://localhost:8080/"
        },
        "id": "7tpHrOS2S7h1",
        "outputId": "8cddc298-d5ba-43b7-ce27-4b640066b262"
      },
      "execution_count": 16,
      "outputs": [
        {
          "output_type": "stream",
          "name": "stdout",
          "text": [
            "              precision    recall  f1-score   support\n",
            "\n",
            "           0       1.00      1.00      1.00        10\n",
            "           1       1.00      1.00      1.00         9\n",
            "           2       1.00      1.00      1.00        11\n",
            "\n",
            "    accuracy                           1.00        30\n",
            "   macro avg       1.00      1.00      1.00        30\n",
            "weighted avg       1.00      1.00      1.00        30\n",
            "\n"
          ]
        }
      ]
    },
    {
      "cell_type": "markdown",
      "source": [
        "**Key Points**\n",
        "\n",
        "---\n",
        "\n",
        "\n",
        "* GridSearchCV conducts a thorough exploration across a defined parameter grid.\n",
        "* Parameters include the estimator to optimize, parameter grid, scoring method, number of jobs for parallel execution, cross-validation strategy, and verbosity.\n",
        "* Practical example demonstrated using GridSearchCV to find the optimal parameters for an SVC model on the Iris data set.\n",
        "* GridSearchCV helps in selecting the best model by evaluating multiple combinations of hyperparameters."
      ],
      "metadata": {
        "id": "KPatSgDHS8h2"
      }
    }
  ]
}